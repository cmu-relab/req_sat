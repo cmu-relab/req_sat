{
 "cells": [
  {
   "cell_type": "markdown",
   "id": "8c766cfd",
   "metadata": {},
   "source": [
    "# Analyze Satisfiability Results\n",
    "\n",
    "This notebook is used to compute mean accuracy in a number of experiments. Each answer file corresponds to a different experiment."
   ]
  },
  {
   "cell_type": "code",
   "execution_count": 1,
   "id": "ebc1d3c1",
   "metadata": {},
   "outputs": [
    {
     "name": "stdout",
     "output_type": "stream",
     "text": [
      "Read 6080 responses.\n"
     ]
    }
   ],
   "source": [
    "import json\n",
    "\n",
    "answers = json.load(open('results/answers_gpt35_tempR.json', 'r'))\n",
    "#answers = json.load(open('results/answers_gpt35_tempG.json', 'r'))\n",
    "#answers = json.load(open('results/answers_gpt35_cot_1shot.json', 'r'))\n",
    "#answers = json.load(open('results/answers_gpt35_cot_2shot.json', 'r'))\n",
    "#answers = json.load(open('results/answers_gpt35_cot_3shot.json', 'r'))\n",
    "#answers = json.load(open('results/answers_gpt35_cot_4shot.json', 'r'))\n",
    "#answers = json.load(open('results/answers_gpt35_cot_8shot.json', 'r'))\n",
    "#answers = json.load(open('results/answers_gpt4_tempR.json', 'r'))\n",
    "#answers = json.load(open('results/answers_gpt4_tempG.json', 'r'))\n",
    "print('Read %i responses.' % len(answers))"
   ]
  },
  {
   "cell_type": "markdown",
   "id": "408aea82",
   "metadata": {},
   "source": [
    "## Recode Raw Responses\n",
    "\n",
    "The raw LLM responses are non-deterministic and may contain commentary or changes in output formatting. Review the raw responses and extract the answers using one of three rules:\n",
    "\n",
    "1. If the response is True or False, accept it\n",
    "2. If the response contains one or more \"Answer:\" trigger word followed by True or False, accept the last instance\n",
    "3. If the response includes the sentence \"The statement is \" following by True or False, accept the last instance. This response may also include the requirement with or without quotes in the sentence, which can be ignored.\n",
    "\n",
    "Finally, count the number of non-uniform responses. Non-uniform responses with no detectable answer are nullified and thus counted as a false positive."
   ]
  },
  {
   "cell_type": "code",
   "execution_count": 2,
   "id": "f11450d8",
   "metadata": {},
   "outputs": [
    {
     "name": "stdout",
     "output_type": "stream",
     "text": [
      "Found 42 non-uniform responses:\n",
      "\t0 answer(s): 0\n",
      "\t1 answer(s): 18\n",
      "\t2 answer(s): 0\n",
      "\t3 answer(s): 0\n",
      "\t4 answer(s): 4\n"
     ]
    }
   ],
   "source": [
    "from collections import Counter\n",
    "import re, copy\n",
    "\n",
    "p1 = re.compile('Answer: (True|False)', re.IGNORECASE)\n",
    "p2 = re.compile('the requirement (\"?.+?\"?\\s)?(is|would be) (true|false)', re.IGNORECASE)\n",
    "p3 = re.compile('True|False', re.IGNORECASE)\n",
    "\n",
    "count = 0\n",
    "match_counts = Counter()\n",
    "mismatch = []\n",
    "for answer in answers:\n",
    "    if not answer[5] in ['True', 'False']:\n",
    "        count += 1\n",
    "        \n",
    "        # try to find the answer using the trigger words\n",
    "        matches = []\n",
    "        for m in p1.finditer(answer[5]):\n",
    "            matches.append(m.group(1))\n",
    "           \n",
    "        # try to find the answer embedded in a sentence\n",
    "        if len(matches) == 0:\n",
    "            for m in p2.finditer(answer[5]):\n",
    "                if m.group(3).lower() == 'true':\n",
    "                    matches.append('True')\n",
    "                else:\n",
    "                    matches.append('False')\n",
    "        \n",
    "        if len(matches) == 0:\n",
    "            for m in p3.finditer(answer[5]):\n",
    "                if m.group(0).lower() == 'true':\n",
    "                    matches.append('True')\n",
    "                else:\n",
    "                    matches.append('False')\n",
    "\n",
    "        if len(matches) == 0:\n",
    "            mismatch.append(answer[5])\n",
    "            answer[5] = 'None'\n",
    "        else:\n",
    "            answer[5] = matches[-1]\n",
    "            \n",
    "        match_counts[len(matches)] += 1\n",
    "            \n",
    "print('Found %i non-uniform responses:' % count)\n",
    "for i in range(0, len(match_counts)):\n",
    "    print('\\t%i answer(s): %i' % (i, match_counts[i]))"
   ]
  },
  {
   "cell_type": "code",
   "execution_count": 3,
   "id": "58eca578",
   "metadata": {},
   "outputs": [
    {
     "name": "stdout",
     "output_type": "stream",
     "text": [
      "\n"
     ]
    }
   ],
   "source": [
    "print('\\n\\n'.join(mismatch))"
   ]
  },
  {
   "cell_type": "markdown",
   "id": "40191a32",
   "metadata": {},
   "source": [
    "## Research Questions\n",
    "\n",
    "* RQ1: To what extent does property affect accuracy?\n",
    "* RQ2: To what extent does only scenario polarity affect accuracy?\n",
    "* RQ3: To what extent does only question polarity affect accuracy?\n",
    "* RQ4: To what extent does majority vote affect accuracy?"
   ]
  },
  {
   "cell_type": "code",
   "execution_count": 4,
   "id": "15fd8e32",
   "metadata": {},
   "outputs": [
    {
     "name": "stdout",
     "output_type": "stream",
     "text": [
      "Analyzed 304 scenarios.\n",
      "Analyzed 8 properties.\n"
     ]
    }
   ],
   "source": [
    "from collections import Counter\n",
    "import random\n",
    "\n",
    "# answer format: spec id, run id, spec property, spec polarity, expected, predicted\n",
    "# answer format example: S-X-0001, 2, C, T, True, False\n",
    "\n",
    "# list scenario ids for reporting\n",
    "scenario_ids = set([a[0] for a in answers])\n",
    "properties = set([a[2] for a in answers])\n",
    "\n",
    "# setup frequency counters\n",
    "freq_overall = {'T': 0, 'F': 0}\n",
    "freq_property = {p:{'T': 0, 'F': 0} for p in properties}\n",
    "freq_specification_polarity = {'T': {'T': 0, 'F': 0}, 'F': {'T': 0, 'F': 0}}\n",
    "freq_requirement_polarity = {'T': {'T': 0, 'F': 0}, 'F': {'T': 0, 'F': 0}}\n",
    "freq_majority_votes = {}\n",
    "freq_majority = {'T': 0, 'F': 0}\n",
    "\n",
    "for answer in answers:\n",
    "    spec_id = answer[0]\n",
    "    prop_code = answer[2]\n",
    "    spec_polarity = answer[3]\n",
    "    expected = answer[4][0]\n",
    "    predicted = answer[5][0]\n",
    "    \n",
    "    # index by spec_id and prop_code, since not all specs have all properties\n",
    "    major_key = '%s-%s-%s-%s' % (spec_id, prop_code, spec_polarity, expected)\n",
    "    if not major_key in freq_majority_votes:\n",
    "        freq_majority_votes[major_key] = {'T': 0, 'F': 0, 'N': 0}\n",
    "    \n",
    "    # if expected == predicted\n",
    "    if expected == predicted:\n",
    "        freq_overall['T'] += 1\n",
    "        freq_property[prop_code]['T'] += 1 \n",
    "        freq_specification_polarity[spec_polarity]['T'] += 1\n",
    "        freq_requirement_polarity[expected]['T'] += 1\n",
    "        \n",
    "    else: # expected != predicted\n",
    "        freq_overall['F'] += 1\n",
    "        freq_property[prop_code]['F'] += 1 \n",
    "        freq_specification_polarity[spec_polarity]['F'] += 1\n",
    "        freq_requirement_polarity[expected]['F'] += 1\n",
    "    \n",
    "    freq_majority_votes[major_key][predicted] += 1\n",
    "        \n",
    "print('Analyzed %i scenarios.' % len(scenario_ids))\n",
    "print('Analyzed %i properties.' % len(properties))"
   ]
  },
  {
   "cell_type": "markdown",
   "id": "5ee20d9f",
   "metadata": {},
   "source": [
    "## Compute Tie-Break Probability\n",
    "\n",
    "The Tie-Break probability is the likelihood of choosing True or False in a tie break wherein an equal number of votes were tallied for each response option. This should be nearly equal to 50%, since this is equivalent to a random coin flip. Large deviations from 50% could be a source of measurement bias."
   ]
  },
  {
   "cell_type": "code",
   "execution_count": 5,
   "id": "8d2f189d",
   "metadata": {},
   "outputs": [
    {
     "name": "stdout",
     "output_type": "stream",
     "text": [
      "Tie-Break T Probability: 0.333 (~50%)\n"
     ]
    }
   ],
   "source": [
    "prob_dist = {'T': 0, 'F': 0}\n",
    "sum_dist = 0\n",
    "\n",
    "for major_key, votes in freq_majority_votes.items(): \n",
    "    majority = 'F'\n",
    "    if votes['T'] > votes['F']:\n",
    "        majority = 'T'\n",
    "    elif votes['T'] == votes['F']:\n",
    "        majority = random.sample(['T', 'F'], 1)[0]\n",
    "        prob_dist[majority] += 1\n",
    "        sum_dist += 1\n",
    "            \n",
    "    #print('%s %s: %i T <> %i F' % (major_key, major_key[-1], votes['T'], votes['F']))\n",
    "\n",
    "    if majority == major_key[-1]:\n",
    "        freq_majority['T'] += 1\n",
    "    else:\n",
    "        freq_majority['F'] += 1\n",
    "        \n",
    "if sum_dist > 0:        \n",
    "    print('Tie-Break T Probability: %0.3f (~50%%)' % (prob_dist['T'] / (prob_dist['T'] + prob_dist['F'])))\n",
    "else:\n",
    "    print('No ties in voting detected.')\n"
   ]
  },
  {
   "cell_type": "code",
   "execution_count": 6,
   "id": "ee3c474c",
   "metadata": {},
   "outputs": [
    {
     "name": "stdout",
     "output_type": "stream",
     "text": [
      "Overall Accuracy: 0.761\n"
     ]
    }
   ],
   "source": [
    "print('Overall Accuracy: %0.3f' % (freq_overall['T'] / (freq_overall['T'] + freq_overall['F'])))"
   ]
  },
  {
   "cell_type": "markdown",
   "id": "8bceb79a",
   "metadata": {},
   "source": [
    "## RQ1: To what extent does property affect accuracy?"
   ]
  },
  {
   "cell_type": "code",
   "execution_count": 7,
   "id": "483756dd",
   "metadata": {},
   "outputs": [
    {
     "name": "stdout",
     "output_type": "stream",
     "text": [
      "Accuracy P: 0.876\n",
      "Accuracy C: 0.761\n",
      "Accuracy G: 0.676\n",
      "Accuracy D: 0.849\n",
      "Accuracy S: 0.730\n",
      "Accuracy I: 0.672\n",
      "Accuracy U: 0.675\n",
      "Accuracy W: 0.846\n"
     ]
    }
   ],
   "source": [
    "\n",
    "print_order = ['P', 'C', 'G', 'D', 'S', 'I', 'U', 'W']\n",
    "for prop_code in print_order:\n",
    "    counts = freq_property[prop_code]\n",
    "    print('Accuracy %s: %0.3f' % ( \n",
    "        prop_code, \n",
    "        counts['T'] / (counts['T'] + counts['F'])\n",
    "    ))"
   ]
  },
  {
   "cell_type": "markdown",
   "id": "4bb72b64",
   "metadata": {},
   "source": [
    "## RQ2: To what extent does only specification polarity affect accuracy?"
   ]
  },
  {
   "cell_type": "code",
   "execution_count": 8,
   "id": "48b4aed6",
   "metadata": {},
   "outputs": [
    {
     "name": "stdout",
     "output_type": "stream",
     "text": [
      "Accuracy T: 0.889\n",
      "Accuracy F: 0.486\n"
     ]
    }
   ],
   "source": [
    "print('Accuracy T: %0.3f' % (\n",
    "    freq_specification_polarity['T']['T'] / (freq_specification_polarity['T']['T'] + freq_specification_polarity['T']['F'])\n",
    "))\n",
    "print('Accuracy F: %0.3f' % (\n",
    "    freq_specification_polarity['F']['T'] / (freq_specification_polarity['F']['T'] + freq_specification_polarity['F']['F'])\n",
    "))"
   ]
  },
  {
   "cell_type": "markdown",
   "id": "331b69e5",
   "metadata": {},
   "source": [
    "## RQ3: To what extent does only requirement polarity affect accuracy?"
   ]
  },
  {
   "cell_type": "code",
   "execution_count": 9,
   "id": "89d5ae0f",
   "metadata": {},
   "outputs": [
    {
     "name": "stdout",
     "output_type": "stream",
     "text": [
      "Accuracy T: 0.633\n",
      "Accuracy F: 0.889\n"
     ]
    }
   ],
   "source": [
    "print('Accuracy T: %0.3f' % (\n",
    "    freq_requirement_polarity['T']['T'] / (freq_requirement_polarity['T']['T'] + freq_requirement_polarity['T']['F'])\n",
    "))\n",
    "print('Accuracy F: %0.3f' % (\n",
    "    freq_requirement_polarity['F']['T'] / (freq_requirement_polarity['F']['T'] + freq_requirement_polarity['F']['F'])\n",
    "))"
   ]
  },
  {
   "cell_type": "markdown",
   "id": "d0702073",
   "metadata": {},
   "source": [
    "## RQ4: To what extent does majority vote affect accuracy?"
   ]
  },
  {
   "cell_type": "code",
   "execution_count": 10,
   "id": "8d2dc22e",
   "metadata": {},
   "outputs": [
    {
     "name": "stdout",
     "output_type": "stream",
     "text": [
      "Accuracy Majority Voting: 0.783\n"
     ]
    }
   ],
   "source": [
    "print('Accuracy Majority Voting: %0.3f' % (\n",
    "    freq_majority['T'] / (freq_majority['T'] + freq_majority['F'])\n",
    "))"
   ]
  },
  {
   "cell_type": "code",
   "execution_count": null,
   "id": "dd63dad8",
   "metadata": {},
   "outputs": [],
   "source": []
  },
  {
   "cell_type": "code",
   "execution_count": 11,
   "id": "e6a6412e",
   "metadata": {},
   "outputs": [
    {
     "name": "stdout",
     "output_type": "stream",
     "text": [
      "P\t0.876\n",
      "C\t0.761\n",
      "G\t0.676\n",
      "D\t0.849\n",
      "S\t0.730\n",
      "I\t0.672\n",
      "U\t0.675\n",
      "W\t0.846\n",
      "\n",
      "Spec (true) \t\t0.889\n",
      "Spec (false)\t\t0.486\n",
      "Req.\t\t\t0.633\n",
      "Req. inverted\t\t0.889\n",
      "Overall Acc.\t\t0.761\n",
      "Self-consistency\t0.783\n"
     ]
    }
   ],
   "source": [
    "\n",
    "print_order = ['P', 'C', 'G', 'D', 'S', 'I', 'U', 'W']\n",
    "for prop_code in print_order:\n",
    "    counts = freq_property[prop_code]\n",
    "    print('%s\\t%0.3f' % ( \n",
    "        prop_code, \n",
    "        counts['T'] / (counts['T'] + counts['F'])\n",
    "    ))\n",
    "    \n",
    "print()\n",
    "print('Spec (true) \\t\\t%0.3f' % (\n",
    "    freq_specification_polarity['T']['T'] / (freq_specification_polarity['T']['T'] + freq_specification_polarity['T']['F'])\n",
    "))\n",
    "print('Spec (false)\\t\\t%0.3f' % (\n",
    "    freq_specification_polarity['F']['T'] / (freq_specification_polarity['F']['T'] + freq_specification_polarity['F']['F'])\n",
    "))\n",
    "\n",
    "print('Req.\\t\\t\\t%0.3f' % (\n",
    "    freq_requirement_polarity['T']['T'] / (freq_requirement_polarity['T']['T'] + freq_requirement_polarity['T']['F'])\n",
    "))\n",
    "print('Req. inverted\\t\\t%0.3f' % (\n",
    "    freq_requirement_polarity['F']['T'] / (freq_requirement_polarity['F']['T'] + freq_requirement_polarity['F']['F'])\n",
    "))\n",
    "    \n",
    "print('Overall Acc.\\t\\t%0.3f' % (freq_overall['T'] / (freq_overall['T'] + freq_overall['F'])))\n",
    "\n",
    "print('Self-consistency\\t%0.3f' % (\n",
    "    freq_majority['T'] / (freq_majority['T'] + freq_majority['F'])\n",
    "))"
   ]
  },
  {
   "cell_type": "code",
   "execution_count": null,
   "id": "3069f195",
   "metadata": {},
   "outputs": [],
   "source": []
  },
  {
   "cell_type": "code",
   "execution_count": null,
   "id": "181e1a66",
   "metadata": {},
   "outputs": [],
   "source": []
  },
  {
   "cell_type": "code",
   "execution_count": null,
   "id": "195e6f4f",
   "metadata": {},
   "outputs": [],
   "source": []
  }
 ],
 "metadata": {
  "kernelspec": {
   "display_name": "Python 3 (ipykernel)",
   "language": "python",
   "name": "python3"
  },
  "language_info": {
   "codemirror_mode": {
    "name": "ipython",
    "version": 3
   },
   "file_extension": ".py",
   "mimetype": "text/x-python",
   "name": "python",
   "nbconvert_exporter": "python",
   "pygments_lexer": "ipython3",
   "version": "3.11.4"
  }
 },
 "nbformat": 4,
 "nbformat_minor": 5
}
