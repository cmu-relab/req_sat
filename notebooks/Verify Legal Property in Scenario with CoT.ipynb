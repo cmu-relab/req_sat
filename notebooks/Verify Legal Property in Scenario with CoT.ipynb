{
 "cells": [
  {
   "cell_type": "markdown",
   "id": "8c9b15c8",
   "metadata": {},
   "source": [
    "# Verify Legal Properties using Chain-of-Thought\n",
    "\n",
    "This notebook is used to verify whether a specification satisfies a property using Chain-of-Thought (CoT) and demonstrations. In-Context Learning performance has been shown to improve with both CoT and examples that demonstrate the completion. The notebook evaluates a CoT template, which allows an arbitrary number of examples to be included. Examples are sampled from the training dataset, and the results are collected using the testing dataset to ensure consistent comparison with other experiments that also use the testing dataset."
   ]
  },
  {
   "cell_type": "code",
   "execution_count": 1,
   "id": "e8897a93",
   "metadata": {},
   "outputs": [
    {
     "name": "stdout",
     "output_type": "stream",
     "text": [
      "Training Size 0.21\n",
      "Training: 80\n",
      "Testing: 304\n"
     ]
    }
   ],
   "source": [
    "import json\n",
    "\n",
    "# load the design properties\n",
    "properties = json.load(open('results/properties.json', 'r'))\n",
    "\n",
    "# load the ground truth data\n",
    "training = json.load(open('results/training.json', 'r'))\n",
    "testing = json.load(open('results/testing.json', 'r'))\n",
    "\n",
    "print('Training Size %0.2f' % (len(training) / (len(training) + len(testing))))\n",
    "print('Training: %i' % len(training))\n",
    "print('Testing: %i' % len(testing))"
   ]
  },
  {
   "cell_type": "code",
   "execution_count": 2,
   "id": "85b7bd29",
   "metadata": {},
   "outputs": [],
   "source": [
    "from langchain.chat_models import ChatOpenAI\n",
    "import os\n",
    "\n",
    "model_names = {\n",
    "    'gpt35': 'gpt-3.5-turbo-1106',\n",
    "    'gpt4': 'gpt-4-0613',\n",
    "    'gpt4p': 'gpt-4-1106-preview'\n",
    "}\n",
    "\n",
    "model_name = 'gpt35'\n",
    "\n",
    "model = ChatOpenAI(\n",
    "    openai_api_key = os.environ[\"OPENAI_API_KEY\"],\n",
    "    model_name=model_names[model_name]\n",
    ")"
   ]
  },
  {
   "cell_type": "code",
   "execution_count": 3,
   "id": "9b0cddea",
   "metadata": {},
   "outputs": [
    {
     "data": {
      "text/plain": [
       "{'id': 'SCR-A086',\n",
       " 'base-spec': 'The user opens the mobile app and discovers a wide range of activities centered around horses and adventure. They can explore the virtual world by caring for and grooming horses, participating in jousting and wild west role-play, riding motorcycles, camping, and even creating their own unique videos. In this scenario, the user decides to focus on grooming and caring for horses in the stable. The app utilizes their knowledge of horse care techniques, preferred horse breeds, and riding experience to provide an engaging and realistic experience.',\n",
       " 'prop-actions': \"1. The app requests the user to provide personal information such as their name, age, and email address before they can access the horse grooming and care activities. This initial request for personal information establishes a power imbalance as the data controller (the app) requires this information from the data subject (the user) in order to access the desired activities. The user may feel compelled to provide this information in order to proceed, even if they have concerns about privacy or data security.\\n\\n2. The app prompts the user to provide consent for the collection and processing of their personal information for various purposes, including targeted advertising and data analytics. The presence of this consent request further highlights the power imbalance, as the data controller (the app) has control over the user's access to the activities and can potentially use their personal information for various purposes. The user may feel pressured to give consent in order to fully engage with the app and its features, even if they have reservations about how their data will be used.\\n\\n3. The app includes a feature that allows users to connect their social media accounts and share their horse grooming and care progress with their friends. While this may seem like a voluntary action, it still contributes to the power imbalance as the app encourages users to share their personal information and activities with others. The user may feel compelled to connect their social media accounts and share their progress in order to enhance their experience or gain recognition from their peers, even if they have concerns about privacy or the potential consequences of sharing personal information publicly.\\n\\n4. The app tracks the user's location and uses this information to provide personalized recommendations for nearby horse riding schools and events. While this feature may be useful for some users, it also introduces a power imbalance as the app has access to the user's location data and can potentially use it for targeted advertising or other purposes. The user may feel obligated to allow the app to track their location in order to receive personalized recommendations, even if they have concerns about privacy or the potential misuse of their location data.\\n\\n5. The app offers a premium subscription option that provides additional features and benefits, such as exclusive access to certain horse grooming and care activities, personalized training plans, and virtual competitions. This premium subscription option further exacerbates the power imbalance as the app reserves certain features and benefits for paying users, creating a distinction between those who can afford the subscription and those who cannot. The user may feel pressured to purchase the premium subscription in order to fully enjoy the app and access all available activities, even if they have financial constraints or reservations about the fairness of this approach.\\n\\nBy considering these actions, it is evident that there is a power imbalance between the data subject (the user) and the data controller (the app). The app leverages its control over access to desired activities, collection and processing of personal information, social media integration, location tracking, and premium subscription options to influence the user's choices and actions. The user may feel compelled to comply with these requests and decisions, even if they have concerns or reservations, due to the power imbalance inherent in the relationship.\",\n",
       " 'prop-code': 'P',\n",
       " 'prop-state': 'T',\n",
       " 'rationale': 'The user is forced to give their data to the app and the app has control over their data at every step --> power imbalance'}"
      ]
     },
     "execution_count": 3,
     "metadata": {},
     "output_type": "execute_result"
    }
   ],
   "source": [
    "training[0]"
   ]
  },
  {
   "cell_type": "markdown",
   "id": "fa579405",
   "metadata": {},
   "source": [
    "## Sample Examples for Demonstration\n",
    "\n",
    "This function samples from the training dataset to identify examples that conform the expected requirement state. The input examples are restricted to a particular property, and the state indicates whether the examples should satisfy or not satisfy the property. The sampled examples are then packaged into a sub-template that is linearized and returned by the function."
   ]
  },
  {
   "cell_type": "code",
   "execution_count": 4,
   "id": "18d2445e",
   "metadata": {},
   "outputs": [],
   "source": [
    "def get_examples(examples, req_state):\n",
    "    # build examples\n",
    "    text = ''\n",
    "    for example in examples:\n",
    "        expected = ''\n",
    "        if req_state == 'T':\n",
    "            expected = prop_state_str[example['prop-state']]\n",
    "        else:\n",
    "            expected = inverse[prop_state_str[record['prop-state']]]\n",
    "        \n",
    "        text += 'Scenario: %s\\nStatement: %s\\n\\n###\\n\\nRationale: %s\\nAnswer: %s\\n\\n# END\\n\\n' % (\n",
    "            example['prop-actions'],\n",
    "            properties[example['prop-code']]['axiom'][req_state],\n",
    "            example['rationale'],\n",
    "            expected\n",
    "        )\n",
    "    return text"
   ]
  },
  {
   "cell_type": "markdown",
   "id": "f6c784cb",
   "metadata": {},
   "source": [
    "## Template 3: Chain-of-Thought"
   ]
  },
  {
   "cell_type": "code",
   "execution_count": null,
   "id": "6bda90df",
   "metadata": {},
   "outputs": [],
   "source": [
    "from langchain.prompts.chat import ChatPromptTemplate\n",
    "from langchain.output_parsers.json import SimpleJsonOutputParser\n",
    "\n",
    "inverse = {'True': 'False', 'False': 'True'}\n",
    "prop_state_str = {'T': 'True', 'F': 'False'}\n",
    "\n",
    "messages = [\n",
    "    ('system', 'You are a helpful assistant.'),\n",
    "    ('human', \"\"\"Definition of {property}: {definition}\n",
    "\n",
    "Read the following example scenarios and observe the rationale and answer about whether the statement is true or false. For the last scenario and statement, decide if the statement is true or false based on the definition, above. Respond by completing the Rationale and Answer using the same format. Do not elaborate.\n",
    "\n",
    "{examples}Scenario: {prop-actions}\n",
    "Statement: {requirement}\n",
    "\n",
    "###\n",
    "\n",
    "Rationale: \"\"\")\n",
    "\n",
    "#Answer: \"\"\")\n",
    "]\n",
    "\n",
    "prompt1 = ChatPromptTemplate.from_messages(messages)\n",
    "chain = prompt1 | model\n",
    "\n",
    "example_count = 3\n",
    "answers = []\n",
    "\n",
    "for i in range(0, 10):\n",
    "    for j, record in enumerate(testing):\n",
    "        response = chain.invoke({\n",
    "            'property': properties[record['prop-code']]['property'],\n",
    "            'definition': properties[record['prop-code']]['rubric'],\n",
    "            'base-spec': record['base-spec'],\n",
    "            'prop-actions': record['prop-actions'],\n",
    "            'requirement': properties[record['prop-code']]['axiom']['T'], # positive\n",
    "            'examples': get_examples(training[:example_count], 'T')\n",
    "        })\n",
    "        answers.append([\n",
    "            record['id'],\n",
    "            i,\n",
    "            record['prop-code'], # property code\n",
    "            record['prop-state'], # spec polarity\n",
    "            prop_state_str[record['prop-state']], # expected\n",
    "            response.content # predicted\n",
    "        ])\n",
    "\n",
    "        response = chain.invoke({\n",
    "            'property': properties[record['prop-code']]['property'],\n",
    "            'definition': properties[record['prop-code']]['rubric'],\n",
    "            'base-spec': record['base-spec'],\n",
    "            'prop-actions': record['prop-actions'],\n",
    "            'requirement': properties[record['prop-code']]['axiom']['F'], # positive\n",
    "            'examples': get_examples(training[:example_count], 'F')\n",
    "        })\n",
    "        answers.append([\n",
    "            record['id'],\n",
    "            i,\n",
    "            record['prop-code'], # property code\n",
    "            record['prop-state'], # spec polarity\n",
    "            inverse[prop_state_str[record['prop-state']]], # expected\n",
    "            response.content # predicted\n",
    "        ])\n",
    "        print(j)\n",
    "    print('### %i ###' % i)"
   ]
  },
  {
   "cell_type": "code",
   "execution_count": 6,
   "id": "7af85150",
   "metadata": {},
   "outputs": [],
   "source": [
    "json.dump(answers, open('results/answers_%s_cot_%ishot.json' % (model_name, example_count), 'w+'))"
   ]
  },
  {
   "cell_type": "code",
   "execution_count": null,
   "id": "ba0a30f0",
   "metadata": {},
   "outputs": [],
   "source": []
  },
  {
   "cell_type": "code",
   "execution_count": null,
   "id": "d1c0cc89",
   "metadata": {},
   "outputs": [],
   "source": []
  }
 ],
 "metadata": {
  "kernelspec": {
   "display_name": "Python 3 (ipykernel)",
   "language": "python",
   "name": "python3"
  },
  "language_info": {
   "codemirror_mode": {
    "name": "ipython",
    "version": 3
   },
   "file_extension": ".py",
   "mimetype": "text/x-python",
   "name": "python",
   "nbconvert_exporter": "python",
   "pygments_lexer": "ipython3",
   "version": "3.11.4"
  }
 },
 "nbformat": 4,
 "nbformat_minor": 5
}
